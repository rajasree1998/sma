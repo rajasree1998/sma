{
 "cells": [
  {
   "cell_type": "markdown",
   "id": "3a6c1485",
   "metadata": {},
   "source": [
    "NAME : RAJASREE S\n",
    "    \n",
    "ROLL NO : 215229147\n",
    "    \n",
    "CLASS : II M.Sc DATA SCIENCE"
   ]
  },
  {
   "cell_type": "code",
   "execution_count": 1,
   "id": "1ab398cc",
   "metadata": {},
   "outputs": [],
   "source": [
    "ACCESS_TOKEN = 'EAAtYZCoz90lEBAEZAjiOtOBgXkcUnZBZBJ3c7AV4jaQGdKqrtgy5ZC48g7noGZBrZAAxUWPUcEsHZBMSRCu6sma0CdZCaTaXWcIgsqaD9vN1Y5sVhAZAr67095zN0cAKE5fVZA0i8fTurdGxZCASxTWmb3Sr6jEHsnHVtdkIfHB8ZCwkMrdacN9RZADmC41v76VKlB1xfOB3T02ZCOoJuRIv7fBsYWI0ax2A4nHdUp3JUaqX54UEf2lcFopPbZCyIntOCOVEzqQZD'"
   ]
  },
  {
   "cell_type": "code",
   "execution_count": 2,
   "id": "f2e38a96",
   "metadata": {},
   "outputs": [
    {
     "name": "stdout",
     "output_type": "stream",
     "text": [
      "Requirement already satisfied: facebook-sdk in c:\\users\\sraja\\anaconda3\\lib\\site-packages (3.1.0)\n",
      "Requirement already satisfied: requests in c:\\users\\sraja\\anaconda3\\lib\\site-packages (from facebook-sdk) (2.28.1)\n",
      "Requirement already satisfied: charset-normalizer<3,>=2 in c:\\users\\sraja\\anaconda3\\lib\\site-packages (from requests->facebook-sdk) (2.1.0)\n",
      "Requirement already satisfied: idna<4,>=2.5 in c:\\users\\sraja\\anaconda3\\lib\\site-packages (from requests->facebook-sdk) (2.10)\n",
      "Requirement already satisfied: urllib3<1.27,>=1.21.1 in c:\\users\\sraja\\anaconda3\\lib\\site-packages (from requests->facebook-sdk) (1.26.4)\n",
      "Requirement already satisfied: certifi>=2017.4.17 in c:\\users\\sraja\\anaconda3\\lib\\site-packages (from requests->facebook-sdk) (2020.12.5)\n"
     ]
    },
    {
     "name": "stderr",
     "output_type": "stream",
     "text": [
      "WARNING: Ignoring invalid distribution -atplotlib (c:\\users\\sraja\\anaconda3\\lib\\site-packages)\n",
      "WARNING: Ignoring invalid distribution -atplotlib (c:\\users\\sraja\\anaconda3\\lib\\site-packages)\n",
      "WARNING: Ignoring invalid distribution -atplotlib (c:\\users\\sraja\\anaconda3\\lib\\site-packages)\n",
      "WARNING: Ignoring invalid distribution -atplotlib (c:\\users\\sraja\\anaconda3\\lib\\site-packages)\n",
      "WARNING: Ignoring invalid distribution -atplotlib (c:\\users\\sraja\\anaconda3\\lib\\site-packages)\n",
      "WARNING: Ignoring invalid distribution -atplotlib (c:\\users\\sraja\\anaconda3\\lib\\site-packages)\n"
     ]
    }
   ],
   "source": [
    "!pip install facebook-sdk"
   ]
  },
  {
   "cell_type": "code",
   "execution_count": 3,
   "id": "2c93a998",
   "metadata": {},
   "outputs": [],
   "source": [
    "import facebook"
   ]
  },
  {
   "cell_type": "code",
   "execution_count": 4,
   "id": "31f768bc",
   "metadata": {},
   "outputs": [],
   "source": [
    "import urllib"
   ]
  },
  {
   "cell_type": "code",
   "execution_count": 5,
   "id": "b0069c68",
   "metadata": {},
   "outputs": [],
   "source": [
    "import requests"
   ]
  },
  {
   "cell_type": "code",
   "execution_count": 6,
   "id": "b8ebcd87",
   "metadata": {},
   "outputs": [],
   "source": [
    "import json"
   ]
  },
  {
   "cell_type": "code",
   "execution_count": 7,
   "id": "c03210e0",
   "metadata": {},
   "outputs": [
    {
     "name": "stdout",
     "output_type": "stream",
     "text": [
      "{\n",
      " \"name\": \"Raja Sree\",\n",
      " \"id\": \"111238288342425\"\n",
      "}\n"
     ]
    }
   ],
   "source": [
    "def pp(o):\n",
    "    print(json.dumps(o, indent=1))\n",
    "    \n",
    "g = facebook.GraphAPI(ACCESS_TOKEN, version='2.10')\n",
    "\n",
    "pp(g.get_object('me'))"
   ]
  },
  {
   "cell_type": "code",
   "execution_count": 13,
   "id": "67b9c101",
   "metadata": {},
   "outputs": [
    {
     "name": "stdout",
     "output_type": "stream",
     "text": [
      "{\n",
      " \"data\": []\n",
      "}\n"
     ]
    }
   ],
   "source": [
    "pp(g.get_connections(id='me' , connection_name='likes'))"
   ]
  },
  {
   "cell_type": "code",
   "execution_count": 9,
   "id": "3aefdfec",
   "metadata": {},
   "outputs": [
    {
     "name": "stdout",
     "output_type": "stream",
     "text": [
      "{\n",
      " \"data\": []\n",
      "}\n"
     ]
    }
   ],
   "source": [
    "pp(g.get_connections(id='me' , connection_name='friends'))"
   ]
  },
  {
   "cell_type": "code",
   "execution_count": 10,
   "id": "0cde7ce4",
   "metadata": {},
   "outputs": [
    {
     "name": "stdout",
     "output_type": "stream",
     "text": [
      "{\n",
      " \"data\": []\n",
      "}\n"
     ]
    }
   ],
   "source": [
    "pp(g.get_connections(id='me' , connection_name='feed'))"
   ]
  },
  {
   "cell_type": "code",
   "execution_count": 14,
   "id": "3f82a047",
   "metadata": {},
   "outputs": [
    {
     "name": "stdout",
     "output_type": "stream",
     "text": [
      "{\n",
      " \"data\": [\n",
      "  {\n",
      "   \"name\": \"Data Science World\",\n",
      "   \"id\": \"315272545240115\"\n",
      "  },\n",
      "  {\n",
      "   \"name\": \"Data Science\",\n",
      "   \"id\": \"723281961067030\"\n",
      "  },\n",
      "  {\n",
      "   \"name\": \"Data Science | Machine Learning | Artificial Intelligence | Deep Learning\",\n",
      "   \"id\": \"304266671063402\"\n",
      "  }\n",
      " ],\n",
      " \"paging\": {\n",
      "  \"cursors\": {\n",
      "   \"before\": \"QVFIUkg1RlB5czc0QVNHMmNnS002R0V2SlJ0bEJacnd0Mjlpc0JhY0lmMjBSNkVuLVU5ZAW1TTkF4TUo5UE9VUS1xejRPMjZArYVdUWjVORTlPQm10SUJ5SUNn\",\n",
      "   \"after\": \"QVFIUllvTWZAFU2ZAqd2dNS04zalFBanBtOFJvQnhqWXBxZAHJUYjV0UkZAISERHUWNPR2h6NnNuVzFLRVVEckNQZAnB0RDhTZAG8tTjF4WTMxa0JFaHhCZAnlrMmt3\"\n",
      "  }\n",
      " }\n",
      "}\n"
     ]
    }
   ],
   "source": [
    "pp(g.get_connections(id='me' , connection_name='groups'))"
   ]
  },
  {
   "cell_type": "code",
   "execution_count": null,
   "id": "11d7ba3c",
   "metadata": {},
   "outputs": [],
   "source": []
  },
  {
   "cell_type": "code",
   "execution_count": null,
   "id": "63a88ef7",
   "metadata": {},
   "outputs": [],
   "source": []
  },
  {
   "cell_type": "code",
   "execution_count": null,
   "id": "4830d9f6",
   "metadata": {},
   "outputs": [],
   "source": []
  }
 ],
 "metadata": {
  "kernelspec": {
   "display_name": "Python 3",
   "language": "python",
   "name": "python3"
  },
  "language_info": {
   "codemirror_mode": {
    "name": "ipython",
    "version": 3
   },
   "file_extension": ".py",
   "mimetype": "text/x-python",
   "name": "python",
   "nbconvert_exporter": "python",
   "pygments_lexer": "ipython3",
   "version": "3.8.8"
  }
 },
 "nbformat": 4,
 "nbformat_minor": 5
}
